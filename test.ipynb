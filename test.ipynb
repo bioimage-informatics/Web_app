{
  "nbformat": 4,
  "nbformat_minor": 0,
  "metadata": {
    "colab": {
      "name": "test.ipynb",
      "provenance": [],
      "collapsed_sections": [],
      "mount_file_id": "1AoIbUBm17AWFFDTC47tnFNE_5nmAVdd5",
      "authorship_tag": "ABX9TyNig1OIoC7Jz19LM29Di6HK",
      "include_colab_link": true
    },
    "kernelspec": {
      "name": "python3",
      "display_name": "Python 3"
    },
    "language_info": {
      "name": "python"
    }
  },
  "cells": [
    {
      "cell_type": "markdown",
      "metadata": {
        "id": "view-in-github",
        "colab_type": "text"
      },
      "source": [
        "<a href=\"https://colab.research.google.com/github/bioimage-informatics/Web_app/blob/main/test.ipynb\" target=\"_parent\"><img src=\"https://colab.research.google.com/assets/colab-badge.svg\" alt=\"Open In Colab\"/></a>"
      ]
    },
    {
      "cell_type": "code",
      "source": [
        "# https://qiita.com/gudapys/items/62eda02bdb3de5530a23"
      ],
      "metadata": {
        "id": "Dg7d5APYZ8Ou"
      },
      "execution_count": null,
      "outputs": []
    },
    {
      "cell_type": "code",
      "execution_count": 14,
      "metadata": {
        "colab": {
          "base_uri": "https://localhost:8080/",
          "height": 137
        },
        "id": "y-rnjOWGNp5m",
        "outputId": "0c36eba8-c0b0-46b7-ef86-0fd55b880470"
      },
      "outputs": [
        {
          "output_type": "error",
          "ename": "SyntaxError",
          "evalue": "ignored",
          "traceback": [
            "\u001b[0;36m  File \u001b[0;32m\"<ipython-input-14-39510d89bbe5>\"\u001b[0;36m, line \u001b[0;32m2\u001b[0m\n\u001b[0;31m    pip install --upgrade streamlit\u001b[0m\n\u001b[0m              ^\u001b[0m\n\u001b[0;31mSyntaxError\u001b[0m\u001b[0;31m:\u001b[0m invalid syntax\n"
          ]
        }
      ],
      "source": [
        "# streamlit インストール\n",
        "!pip install --upgrade streamlit"
      ]
    },
    {
      "cell_type": "code",
      "source": [
        "# Test app 1\n",
        "%%writefile app.py\n",
        "\n",
        "import streamlit as st\n",
        "st.title(\"Hello World !\")"
      ],
      "metadata": {
        "colab": {
          "base_uri": "https://localhost:8080/"
        },
        "id": "ojXN8iKzN0ao",
        "outputId": "65858319-d1cf-4dd3-a598-7cca8c2438ab"
      },
      "execution_count": 15,
      "outputs": [
        {
          "output_type": "stream",
          "name": "stdout",
          "text": [
            "Writing app.py\n"
          ]
        }
      ]
    },
    {
      "cell_type": "code",
      "source": [
        "# Test app 2\n",
        "%%writefile app.py\n",
        "\n",
        "import streamlit as st\n",
        "import pandas as pd\n",
        "import numpy as np\n",
        "df = pd.DataFrame(\n",
        "    np.random.randn(50, 20),\n",
        "    columns=('col %d' % i for i in range(20)))\n",
        "st.dataframe(df)"
      ],
      "metadata": {
        "colab": {
          "base_uri": "https://localhost:8080/"
        },
        "id": "dpX58cpxV9Lb",
        "outputId": "65b8fe35-592d-4824-cd06-c1d9ccdcb3e3"
      },
      "execution_count": 19,
      "outputs": [
        {
          "output_type": "stream",
          "name": "stdout",
          "text": [
            "Overwriting app.py\n"
          ]
        }
      ]
    },
    {
      "cell_type": "code",
      "source": [
        "# Test app 3\n",
        "%%writefile app.py\n",
        "\n",
        "\n",
        "#ライブラリの読み込み\n",
        "import time\n",
        "import streamlit as st\n",
        "import pandas as pd\n",
        "import numpy as np\n",
        "import matplotlib.pyplot as plt\n",
        "import seaborn as sns\n",
        "from sklearn.model_selection import train_test_split\n",
        "from sklearn import linear_model\n",
        "from sklearn.linear_model import LogisticRegression\n",
        "from sklearn.preprocessing import LabelEncoder\n",
        "\n",
        "\n",
        "#タイトル\n",
        "st.title(\"機械学習アプリ\")\n",
        "st.write(\"streamlitで実装\")\n",
        "\n",
        "# 以下をサイドバーに表示\n",
        "st.sidebar.markdown(\"### 機械学習に用いるcsvファイルを入力してください\")\n",
        "#ファイルアップロード\n",
        "uploaded_files = st.sidebar.file_uploader(\"Choose a CSV file\", accept_multiple_files= False)\n",
        "#ファイルがアップロードされたら以下が実行される\n",
        "if uploaded_files:\n",
        "    df = pd.read_csv(uploaded_files)\n",
        "    df_columns = df.columns\n",
        "    #データフレームを表示\n",
        "    st.markdown(\"### 入力データ\")\n",
        "    st.dataframe(df.style.highlight_max(axis=0))\n",
        "    #matplotlibで可視化。X軸,Y軸を選択できる\n",
        "    st.markdown(\"### 可視化 単変量\")\n",
        "    #データフレームのカラムを選択オプションに設定する\n",
        "    x = st.selectbox(\"X軸\", df_columns)\n",
        "    y = st.selectbox(\"Y軸\", df_columns)\n",
        "    #選択した変数を用いてmtplotlibで可視化\n",
        "    fig = plt.figure(figsize= (12,8))\n",
        "    plt.scatter(df[x],df[y])\n",
        "    plt.xlabel(x,fontsize=18)\n",
        "    plt.ylabel(y,fontsize=18)\n",
        "    st.pyplot(fig)\n",
        "\n",
        "    #seabornのペアプロットで可視化。複数の変数を選択できる。\n",
        "    st.markdown(\"### 可視化 ペアプロット\")\n",
        "    #データフレームのカラムを選択肢にする。複数選択\n",
        "    item = st.multiselect(\"可視化するカラム\", df_columns)\n",
        "    #散布図の色分け基準を１つ選択する。カテゴリ変数を想定\n",
        "    hue = st.selectbox(\"色の基準\", df_columns)\n",
        "    \n",
        "    #実行ボタン（なくてもよいが、その場合、処理を進めるまでエラー画面が表示されてしまう）\n",
        "    execute_pairplot = st.button(\"ペアプロット描画\")\n",
        "    #実行ボタンを押したら下記を表示\n",
        "    if execute_pairplot:\n",
        "            df_sns = df[item]\n",
        "            df_sns[\"hue\"] = df[hue]\n",
        "            \n",
        "            #streamlit上でseabornのペアプロットを表示させる\n",
        "            fig = sns.pairplot(df_sns, hue=\"hue\")\n",
        "            st.pyplot(fig)\n",
        "\n",
        "\n",
        "    st.markdown(\"### モデリング\")\n",
        "    #説明変数は複数選択式\n",
        "    ex = st.multiselect(\"説明変数を選択してください（複数選択可）\", df_columns)\n",
        "\n",
        "    #目的変数は一つ\n",
        "    ob = st.selectbox(\"目的変数を選択してください\", df_columns)\n",
        "\n",
        "    #機械学習のタイプを選択する。\n",
        "    ml_menu = st.selectbox(\"実施する機械学習のタイプを選択してください\", [\"重回帰分析\",\"ロジスティック回帰分析\"])\n",
        "    \n",
        "    #機械学習のタイプにより以下の処理が分岐\n",
        "    if ml_menu == \"重回帰分析\":\n",
        "            st.markdown(\"#### 機械学習を実行します\")\n",
        "            execute = st.button(\"実行\")\n",
        "            \n",
        "            lr = linear_model.LinearRegression()\n",
        "            #実行ボタンを押したら下記が進む\n",
        "            if execute:\n",
        "                  df_ex = df[ex]\n",
        "                  df_ob = df[ob]\n",
        "                  X_train, X_test, y_train, y_test = train_test_split(df_ex.values, df_ob.values, test_size = 0.3)\n",
        "                  lr.fit(X_train, y_train)\n",
        "                  #プログレスバー（ここでは、やってる感だけ）\n",
        "                  my_bar = st.progress(0)\n",
        "                  \n",
        "                  for percent_complete in range(100):\n",
        "                        time.sleep(0.02)\n",
        "                        my_bar.progress(percent_complete + 1)\n",
        "                  \n",
        "                  #metricsで指標を強調表示させる\n",
        "                  col1, col2 = st.columns(2)\n",
        "                  col1.metric(label=\"トレーニングスコア\", value=lr.score(X_train, y_train))\n",
        "                  col2.metric(label=\"テストスコア\", value=lr.score(X_test, y_test))\n",
        "                  \n",
        "    #ロジスティック回帰分析を選択した場合\n",
        "    elif ml_menu == \"ロジスティック回帰分析\":\n",
        "            st.markdown(\"#### 機械学習を実行します\")\n",
        "            execute = st.button(\"実行\")\n",
        "            \n",
        "            lr = LogisticRegression()\n",
        "\n",
        "            #実行ボタンを押したら下記が進む\n",
        "            if execute:\n",
        "                  df_ex = df[ex]\n",
        "                  df_ob = df[ob]\n",
        "                  X_train, X_test, y_train, y_test = train_test_split(df_ex.values, df_ob.values, test_size = 0.3)\n",
        "                  lr.fit(X_train, y_train)\n",
        "                  #プログレスバー（ここでは、やってる感だけ）\n",
        "                  my_bar = st.progress(0)\n",
        "                  for percent_complete in range(100):\n",
        "                        time.sleep(0.02)\n",
        "                        my_bar.progress(percent_complete + 1)\n",
        "\n",
        "                  col1, col2 = st.columns(2)\n",
        "                  col1.metric(label=\"トレーニングスコア\", value=lr.score(X_train, y_train))\n",
        "                  col2.metric(label=\"テストスコア\", value=lr.score(X_test, y_test))\n",
        "                  \n"
      ],
      "metadata": {
        "colab": {
          "base_uri": "https://localhost:8080/"
        },
        "id": "xN3sZyuBXrMQ",
        "outputId": "54cf0ef6-a5ac-48b3-dfd2-be20cf3c56bd"
      },
      "execution_count": 23,
      "outputs": [
        {
          "output_type": "stream",
          "name": "stdout",
          "text": [
            "Overwriting app.py\n"
          ]
        }
      ]
    },
    {
      "cell_type": "code",
      "source": [
        "# ファイルブラウザを起動、エディタでapp.pyを開いておきます。\n",
        "from google.colab import files\n",
        "files.view(\"/content\")\n",
        "files.view(\"app.py\")"
      ],
      "metadata": {
        "colab": {
          "base_uri": "https://localhost:8080/",
          "height": 17
        },
        "id": "3ibQk-WPUNfG",
        "outputId": "95a58853-e645-404f-dc34-c7e0765144b8"
      },
      "execution_count": 24,
      "outputs": [
        {
          "output_type": "display_data",
          "data": {
            "text/plain": [
              "<IPython.core.display.Javascript object>"
            ],
            "application/javascript": [
              "\n",
              "      ((filepath) => {{\n",
              "        if (!google.colab.kernel.accessAllowed) {{\n",
              "          return;\n",
              "        }}\n",
              "        google.colab.files.view(filepath);\n",
              "      }})(\"/content\")"
            ]
          },
          "metadata": {}
        },
        {
          "output_type": "display_data",
          "data": {
            "text/plain": [
              "<IPython.core.display.Javascript object>"
            ],
            "application/javascript": [
              "\n",
              "      ((filepath) => {{\n",
              "        if (!google.colab.kernel.accessAllowed) {{\n",
              "          return;\n",
              "        }}\n",
              "        google.colab.files.view(filepath);\n",
              "      }})(\"/content/app.py\")"
            ]
          },
          "metadata": {}
        }
      ]
    },
    {
      "cell_type": "code",
      "source": [
        "!streamlit run app.py & sleep 3 && npx localtunnel --port 8501"
      ],
      "metadata": {
        "colab": {
          "base_uri": "https://localhost:8080/"
        },
        "id": "1HDQzDVROLfq",
        "outputId": "3b2a96ca-dd4d-473d-9b5c-a23771edb683"
      },
      "execution_count": null,
      "outputs": [
        {
          "output_type": "stream",
          "name": "stdout",
          "text": [
            "2022-08-03 06:23:08.412 INFO    numexpr.utils: NumExpr defaulting to 2 threads.\n",
            "\u001b[0m\n",
            "\u001b[34m\u001b[1m  You can now view your Streamlit app in your browser.\u001b[0m\n",
            "\u001b[0m\n",
            "\u001b[34m  Network URL: \u001b[0m\u001b[1mhttp://172.28.0.2:8501\u001b[0m\n",
            "\u001b[34m  External URL: \u001b[0m\u001b[1mhttp://104.196.39.126:8501\u001b[0m\n",
            "\u001b[0m\n",
            "\u001b[K\u001b[?25hnpx: installed 22 in 4.154s\n",
            "your url is: http://spotty-bikes-suffer-104-196-39-126.loca.lt\n"
          ]
        }
      ]
    }
  ]
}
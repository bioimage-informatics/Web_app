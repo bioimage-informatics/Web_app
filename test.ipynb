{
  "cells": [
    {
      "cell_type": "markdown",
      "metadata": {
        "id": "view-in-github",
        "colab_type": "text"
      },
      "source": [
        "<a href=\"https://colab.research.google.com/github/bioimage-informatics/Web_app/blob/main/test.ipynb\" target=\"_parent\"><img src=\"https://colab.research.google.com/assets/colab-badge.svg\" alt=\"Open In Colab\"/></a>"
      ]
    },
    {
      "cell_type": "code",
      "execution_count": null,
      "metadata": {
        "id": "Dg7d5APYZ8Ou"
      },
      "outputs": [],
      "source": [
        "# https://qiita.com/gudapys/items/62eda02bdb3de5530a23"
      ]
    },
    {
      "cell_type": "code",
      "execution_count": null,
      "metadata": {
        "colab": {
          "base_uri": "https://localhost:8080/"
        },
        "id": "y-rnjOWGNp5m",
        "outputId": "3eb6c270-7df3-473e-e82d-0bf7f1d0a539"
      },
      "outputs": [
        {
          "name": "stdout",
          "output_type": "stream",
          "text": [
            "Looking in indexes: https://pypi.org/simple, https://us-python.pkg.dev/colab-wheels/public/simple/\n",
            "Requirement already satisfied: streamlit in /usr/local/lib/python3.7/dist-packages (1.11.1)\n",
            "Requirement already satisfied: numpy in /usr/local/lib/python3.7/dist-packages (from streamlit) (1.21.6)\n",
            "Requirement already satisfied: rich>=10.11.0 in /usr/local/lib/python3.7/dist-packages (from streamlit) (12.5.1)\n",
            "Requirement already satisfied: pillow>=6.2.0 in /usr/local/lib/python3.7/dist-packages (from streamlit) (7.1.2)\n",
            "Requirement already satisfied: tzlocal>=1.1 in /usr/local/lib/python3.7/dist-packages (from streamlit) (1.5.1)\n",
            "Requirement already satisfied: requests>=2.4 in /usr/local/lib/python3.7/dist-packages (from streamlit) (2.23.0)\n",
            "Requirement already satisfied: python-dateutil in /usr/local/lib/python3.7/dist-packages (from streamlit) (2.8.2)\n",
            "Requirement already satisfied: typing-extensions>=3.10.0.0 in /usr/local/lib/python3.7/dist-packages (from streamlit) (4.1.1)\n",
            "Requirement already satisfied: importlib-metadata>=1.4 in /usr/local/lib/python3.7/dist-packages (from streamlit) (4.12.0)\n",
            "Requirement already satisfied: pandas>=0.21.0 in /usr/local/lib/python3.7/dist-packages (from streamlit) (1.3.5)\n",
            "Requirement already satisfied: tornado>=5.0 in /usr/local/lib/python3.7/dist-packages (from streamlit) (6.2)\n",
            "Requirement already satisfied: validators>=0.2 in /usr/local/lib/python3.7/dist-packages (from streamlit) (0.20.0)\n",
            "Requirement already satisfied: packaging>=14.1 in /usr/local/lib/python3.7/dist-packages (from streamlit) (21.3)\n",
            "Requirement already satisfied: click>=7.0 in /usr/local/lib/python3.7/dist-packages (from streamlit) (7.1.2)\n",
            "Requirement already satisfied: gitpython!=3.1.19 in /usr/local/lib/python3.7/dist-packages (from streamlit) (3.1.27)\n",
            "Requirement already satisfied: pyarrow>=4.0 in /usr/local/lib/python3.7/dist-packages (from streamlit) (6.0.1)\n",
            "Requirement already satisfied: toml in /usr/local/lib/python3.7/dist-packages (from streamlit) (0.10.2)\n",
            "Requirement already satisfied: semver in /usr/local/lib/python3.7/dist-packages (from streamlit) (2.13.0)\n",
            "Requirement already satisfied: watchdog in /usr/local/lib/python3.7/dist-packages (from streamlit) (2.1.9)\n",
            "Requirement already satisfied: attrs>=16.0.0 in /usr/local/lib/python3.7/dist-packages (from streamlit) (22.1.0)\n",
            "Requirement already satisfied: cachetools>=4.0 in /usr/local/lib/python3.7/dist-packages (from streamlit) (4.2.4)\n",
            "Requirement already satisfied: pympler>=0.9 in /usr/local/lib/python3.7/dist-packages (from streamlit) (1.0.1)\n",
            "Requirement already satisfied: pydeck>=0.1.dev5 in /usr/local/lib/python3.7/dist-packages (from streamlit) (0.7.1)\n",
            "Requirement already satisfied: blinker>=1.0.0 in /usr/local/lib/python3.7/dist-packages (from streamlit) (1.5)\n",
            "Requirement already satisfied: protobuf<4,>=3.12 in /usr/local/lib/python3.7/dist-packages (from streamlit) (3.17.3)\n",
            "Requirement already satisfied: altair>=3.2.0 in /usr/local/lib/python3.7/dist-packages (from streamlit) (4.2.0)\n",
            "Requirement already satisfied: entrypoints in /usr/local/lib/python3.7/dist-packages (from altair>=3.2.0->streamlit) (0.4)\n",
            "Requirement already satisfied: jsonschema>=3.0 in /usr/local/lib/python3.7/dist-packages (from altair>=3.2.0->streamlit) (4.3.3)\n",
            "Requirement already satisfied: jinja2 in /usr/local/lib/python3.7/dist-packages (from altair>=3.2.0->streamlit) (2.11.3)\n",
            "Requirement already satisfied: toolz in /usr/local/lib/python3.7/dist-packages (from altair>=3.2.0->streamlit) (0.12.0)\n",
            "Requirement already satisfied: gitdb<5,>=4.0.1 in /usr/local/lib/python3.7/dist-packages (from gitpython!=3.1.19->streamlit) (4.0.9)\n",
            "Requirement already satisfied: smmap<6,>=3.0.1 in /usr/local/lib/python3.7/dist-packages (from gitdb<5,>=4.0.1->gitpython!=3.1.19->streamlit) (5.0.0)\n",
            "Requirement already satisfied: zipp>=0.5 in /usr/local/lib/python3.7/dist-packages (from importlib-metadata>=1.4->streamlit) (3.8.1)\n",
            "Requirement already satisfied: importlib-resources>=1.4.0 in /usr/local/lib/python3.7/dist-packages (from jsonschema>=3.0->altair>=3.2.0->streamlit) (5.9.0)\n",
            "Requirement already satisfied: pyrsistent!=0.17.0,!=0.17.1,!=0.17.2,>=0.14.0 in /usr/local/lib/python3.7/dist-packages (from jsonschema>=3.0->altair>=3.2.0->streamlit) (0.18.1)\n",
            "Requirement already satisfied: pyparsing!=3.0.5,>=2.0.2 in /usr/local/lib/python3.7/dist-packages (from packaging>=14.1->streamlit) (3.0.9)\n",
            "Requirement already satisfied: pytz>=2017.3 in /usr/local/lib/python3.7/dist-packages (from pandas>=0.21.0->streamlit) (2022.1)\n",
            "Requirement already satisfied: six>=1.9 in /usr/local/lib/python3.7/dist-packages (from protobuf<4,>=3.12->streamlit) (1.15.0)\n",
            "Requirement already satisfied: ipykernel>=5.1.2 in /usr/local/lib/python3.7/dist-packages (from pydeck>=0.1.dev5->streamlit) (6.15.1)\n",
            "Requirement already satisfied: ipywidgets>=7.0.0 in /usr/local/lib/python3.7/dist-packages (from pydeck>=0.1.dev5->streamlit) (7.7.1)\n",
            "Requirement already satisfied: traitlets>=4.3.2 in /usr/local/lib/python3.7/dist-packages (from pydeck>=0.1.dev5->streamlit) (5.1.1)\n",
            "Requirement already satisfied: psutil in /usr/local/lib/python3.7/dist-packages (from ipykernel>=5.1.2->pydeck>=0.1.dev5->streamlit) (5.4.8)\n",
            "Requirement already satisfied: debugpy>=1.0 in /usr/local/lib/python3.7/dist-packages (from ipykernel>=5.1.2->pydeck>=0.1.dev5->streamlit) (1.0.0)\n",
            "Requirement already satisfied: jupyter-client>=6.1.12 in /usr/local/lib/python3.7/dist-packages (from ipykernel>=5.1.2->pydeck>=0.1.dev5->streamlit) (7.3.4)\n",
            "Requirement already satisfied: matplotlib-inline>=0.1 in /usr/local/lib/python3.7/dist-packages (from ipykernel>=5.1.2->pydeck>=0.1.dev5->streamlit) (0.1.3)\n",
            "Requirement already satisfied: ipython>=7.23.1 in /usr/local/lib/python3.7/dist-packages (from ipykernel>=5.1.2->pydeck>=0.1.dev5->streamlit) (7.34.0)\n",
            "Requirement already satisfied: nest-asyncio in /usr/local/lib/python3.7/dist-packages (from ipykernel>=5.1.2->pydeck>=0.1.dev5->streamlit) (1.5.5)\n",
            "Requirement already satisfied: pyzmq>=17 in /usr/local/lib/python3.7/dist-packages (from ipykernel>=5.1.2->pydeck>=0.1.dev5->streamlit) (23.2.0)\n",
            "Requirement already satisfied: decorator in /usr/local/lib/python3.7/dist-packages (from ipython>=7.23.1->ipykernel>=5.1.2->pydeck>=0.1.dev5->streamlit) (4.4.2)\n",
            "Requirement already satisfied: pexpect>4.3 in /usr/local/lib/python3.7/dist-packages (from ipython>=7.23.1->ipykernel>=5.1.2->pydeck>=0.1.dev5->streamlit) (4.8.0)\n",
            "Requirement already satisfied: pickleshare in /usr/local/lib/python3.7/dist-packages (from ipython>=7.23.1->ipykernel>=5.1.2->pydeck>=0.1.dev5->streamlit) (0.7.5)\n",
            "Requirement already satisfied: setuptools>=18.5 in /usr/local/lib/python3.7/dist-packages (from ipython>=7.23.1->ipykernel>=5.1.2->pydeck>=0.1.dev5->streamlit) (57.4.0)\n",
            "Requirement already satisfied: jedi>=0.16 in /usr/local/lib/python3.7/dist-packages (from ipython>=7.23.1->ipykernel>=5.1.2->pydeck>=0.1.dev5->streamlit) (0.18.1)\n",
            "Requirement already satisfied: backcall in /usr/local/lib/python3.7/dist-packages (from ipython>=7.23.1->ipykernel>=5.1.2->pydeck>=0.1.dev5->streamlit) (0.2.0)\n",
            "Requirement already satisfied: pygments in /usr/local/lib/python3.7/dist-packages (from ipython>=7.23.1->ipykernel>=5.1.2->pydeck>=0.1.dev5->streamlit) (2.6.1)\n",
            "Requirement already satisfied: prompt-toolkit!=3.0.0,!=3.0.1,<3.1.0,>=2.0.0 in /usr/local/lib/python3.7/dist-packages (from ipython>=7.23.1->ipykernel>=5.1.2->pydeck>=0.1.dev5->streamlit) (3.0.30)\n",
            "Requirement already satisfied: widgetsnbextension~=3.6.0 in /usr/local/lib/python3.7/dist-packages (from ipywidgets>=7.0.0->pydeck>=0.1.dev5->streamlit) (3.6.1)\n",
            "Requirement already satisfied: jupyterlab-widgets>=1.0.0 in /usr/local/lib/python3.7/dist-packages (from ipywidgets>=7.0.0->pydeck>=0.1.dev5->streamlit) (1.1.1)\n",
            "Requirement already satisfied: ipython-genutils~=0.2.0 in /usr/local/lib/python3.7/dist-packages (from ipywidgets>=7.0.0->pydeck>=0.1.dev5->streamlit) (0.2.0)\n",
            "Requirement already satisfied: parso<0.9.0,>=0.8.0 in /usr/local/lib/python3.7/dist-packages (from jedi>=0.16->ipython>=7.23.1->ipykernel>=5.1.2->pydeck>=0.1.dev5->streamlit) (0.8.3)\n",
            "Requirement already satisfied: MarkupSafe>=0.23 in /usr/local/lib/python3.7/dist-packages (from jinja2->altair>=3.2.0->streamlit) (2.0.1)\n",
            "Requirement already satisfied: jupyter-core>=4.9.2 in /usr/local/lib/python3.7/dist-packages (from jupyter-client>=6.1.12->ipykernel>=5.1.2->pydeck>=0.1.dev5->streamlit) (4.11.1)\n",
            "Requirement already satisfied: ptyprocess>=0.5 in /usr/local/lib/python3.7/dist-packages (from pexpect>4.3->ipython>=7.23.1->ipykernel>=5.1.2->pydeck>=0.1.dev5->streamlit) (0.7.0)\n",
            "Requirement already satisfied: wcwidth in /usr/local/lib/python3.7/dist-packages (from prompt-toolkit!=3.0.0,!=3.0.1,<3.1.0,>=2.0.0->ipython>=7.23.1->ipykernel>=5.1.2->pydeck>=0.1.dev5->streamlit) (0.2.5)\n",
            "Requirement already satisfied: certifi>=2017.4.17 in /usr/local/lib/python3.7/dist-packages (from requests>=2.4->streamlit) (2022.6.15)\n",
            "Requirement already satisfied: idna<3,>=2.5 in /usr/local/lib/python3.7/dist-packages (from requests>=2.4->streamlit) (2.10)\n",
            "Requirement already satisfied: urllib3!=1.25.0,!=1.25.1,<1.26,>=1.21.1 in /usr/local/lib/python3.7/dist-packages (from requests>=2.4->streamlit) (1.24.3)\n",
            "Requirement already satisfied: chardet<4,>=3.0.2 in /usr/local/lib/python3.7/dist-packages (from requests>=2.4->streamlit) (3.0.4)\n",
            "Requirement already satisfied: commonmark<0.10.0,>=0.9.0 in /usr/local/lib/python3.7/dist-packages (from rich>=10.11.0->streamlit) (0.9.1)\n",
            "Requirement already satisfied: notebook>=4.4.1 in /usr/local/lib/python3.7/dist-packages (from widgetsnbextension~=3.6.0->ipywidgets>=7.0.0->pydeck>=0.1.dev5->streamlit) (5.3.1)\n",
            "Requirement already satisfied: Send2Trash in /usr/local/lib/python3.7/dist-packages (from notebook>=4.4.1->widgetsnbextension~=3.6.0->ipywidgets>=7.0.0->pydeck>=0.1.dev5->streamlit) (1.8.0)\n",
            "Requirement already satisfied: terminado>=0.8.1 in /usr/local/lib/python3.7/dist-packages (from notebook>=4.4.1->widgetsnbextension~=3.6.0->ipywidgets>=7.0.0->pydeck>=0.1.dev5->streamlit) (0.13.3)\n",
            "Requirement already satisfied: nbconvert in /usr/local/lib/python3.7/dist-packages (from notebook>=4.4.1->widgetsnbextension~=3.6.0->ipywidgets>=7.0.0->pydeck>=0.1.dev5->streamlit) (5.6.1)\n",
            "Requirement already satisfied: nbformat in /usr/local/lib/python3.7/dist-packages (from notebook>=4.4.1->widgetsnbextension~=3.6.0->ipywidgets>=7.0.0->pydeck>=0.1.dev5->streamlit) (5.4.0)\n",
            "Requirement already satisfied: mistune<2,>=0.8.1 in /usr/local/lib/python3.7/dist-packages (from nbconvert->notebook>=4.4.1->widgetsnbextension~=3.6.0->ipywidgets>=7.0.0->pydeck>=0.1.dev5->streamlit) (0.8.4)\n",
            "Requirement already satisfied: pandocfilters>=1.4.1 in /usr/local/lib/python3.7/dist-packages (from nbconvert->notebook>=4.4.1->widgetsnbextension~=3.6.0->ipywidgets>=7.0.0->pydeck>=0.1.dev5->streamlit) (1.5.0)\n",
            "Requirement already satisfied: bleach in /usr/local/lib/python3.7/dist-packages (from nbconvert->notebook>=4.4.1->widgetsnbextension~=3.6.0->ipywidgets>=7.0.0->pydeck>=0.1.dev5->streamlit) (5.0.1)\n",
            "Requirement already satisfied: defusedxml in /usr/local/lib/python3.7/dist-packages (from nbconvert->notebook>=4.4.1->widgetsnbextension~=3.6.0->ipywidgets>=7.0.0->pydeck>=0.1.dev5->streamlit) (0.7.1)\n",
            "Requirement already satisfied: testpath in /usr/local/lib/python3.7/dist-packages (from nbconvert->notebook>=4.4.1->widgetsnbextension~=3.6.0->ipywidgets>=7.0.0->pydeck>=0.1.dev5->streamlit) (0.6.0)\n",
            "Requirement already satisfied: fastjsonschema in /usr/local/lib/python3.7/dist-packages (from nbformat->notebook>=4.4.1->widgetsnbextension~=3.6.0->ipywidgets>=7.0.0->pydeck>=0.1.dev5->streamlit) (2.16.1)\n",
            "Requirement already satisfied: webencodings in /usr/local/lib/python3.7/dist-packages (from bleach->nbconvert->notebook>=4.4.1->widgetsnbextension~=3.6.0->ipywidgets>=7.0.0->pydeck>=0.1.dev5->streamlit) (0.5.1)\n"
          ]
        }
      ],
      "source": [
        "# streamlit インストール\n",
        "!pip install --upgrade streamlit"
      ]
    },
    {
      "cell_type": "code",
      "execution_count": null,
      "metadata": {
        "colab": {
          "base_uri": "https://localhost:8080/"
        },
        "id": "ojXN8iKzN0ao",
        "outputId": "95c74664-3fed-4a31-d39d-ee65c132abcc"
      },
      "outputs": [
        {
          "name": "stdout",
          "output_type": "stream",
          "text": [
            "Overwriting app.py\n"
          ]
        }
      ],
      "source": [
        "# Test app 1\n",
        "%%writefile app.py\n",
        "\n",
        "import streamlit as st\n",
        "st.title(\"Hello World !\")"
      ]
    },
    {
      "cell_type": "code",
      "execution_count": null,
      "metadata": {
        "colab": {
          "base_uri": "https://localhost:8080/"
        },
        "id": "dpX58cpxV9Lb",
        "outputId": "65b8fe35-592d-4824-cd06-c1d9ccdcb3e3"
      },
      "outputs": [
        {
          "name": "stdout",
          "output_type": "stream",
          "text": [
            "Overwriting app.py\n"
          ]
        }
      ],
      "source": [
        "# Test app 2\n",
        "%%writefile app.py\n",
        "\n",
        "import streamlit as st\n",
        "import pandas as pd\n",
        "import numpy as np\n",
        "df = pd.DataFrame(\n",
        "    np.random.randn(50, 20),\n",
        "    columns=('col %d' % i for i in range(20)))\n",
        "st.dataframe(df)"
      ]
    },
    {
      "cell_type": "code",
      "execution_count": null,
      "metadata": {
        "colab": {
          "base_uri": "https://localhost:8080/"
        },
        "id": "xN3sZyuBXrMQ",
        "outputId": "54cf0ef6-a5ac-48b3-dfd2-be20cf3c56bd"
      },
      "outputs": [
        {
          "name": "stdout",
          "output_type": "stream",
          "text": [
            "Overwriting app.py\n"
          ]
        }
      ],
      "source": [
        "# Test app 3\n",
        "%%writefile app.py\n",
        "\n",
        "#ライブラリの読み込み\n",
        "import time\n",
        "import streamlit as st\n",
        "import pandas as pd\n",
        "import numpy as np\n",
        "import matplotlib.pyplot as plt\n",
        "import seaborn as sns\n",
        "from sklearn.model_selection import train_test_split\n",
        "from sklearn import linear_model\n",
        "from sklearn.linear_model import LogisticRegression\n",
        "from sklearn.preprocessing import LabelEncoder\n",
        "\n",
        "\n",
        "#タイトル\n",
        "st.title(\"機械学習アプリ\")\n",
        "st.write(\"streamlitで実装\")\n",
        "\n",
        "# 以下をサイドバーに表示\n",
        "st.sidebar.markdown(\"### 機械学習に用いるcsvファイルを入力してください\")\n",
        "#ファイルアップロード\n",
        "uploaded_files = st.sidebar.file_uploader(\"Choose a CSV file\", accept_multiple_files= False)\n",
        "#ファイルがアップロードされたら以下が実行される\n",
        "if uploaded_files:\n",
        "    df = pd.read_csv(uploaded_files)\n",
        "    df_columns = df.columns\n",
        "    #データフレームを表示\n",
        "    st.markdown(\"### 入力データ\")\n",
        "    st.dataframe(df.style.highlight_max(axis=0))\n",
        "    #matplotlibで可視化。X軸,Y軸を選択できる\n",
        "    st.markdown(\"### 可視化 単変量\")\n",
        "    #データフレームのカラムを選択オプションに設定する\n",
        "    x = st.selectbox(\"X軸\", df_columns)\n",
        "    y = st.selectbox(\"Y軸\", df_columns)\n",
        "    #選択した変数を用いてmtplotlibで可視化\n",
        "    fig = plt.figure(figsize= (12,8))\n",
        "    plt.scatter(df[x],df[y])\n",
        "    plt.xlabel(x,fontsize=18)\n",
        "    plt.ylabel(y,fontsize=18)\n",
        "    st.pyplot(fig)\n",
        "\n",
        "    #seabornのペアプロットで可視化。複数の変数を選択できる。\n",
        "    st.markdown(\"### 可視化 ペアプロット\")\n",
        "    #データフレームのカラムを選択肢にする。複数選択\n",
        "    item = st.multiselect(\"可視化するカラム\", df_columns)\n",
        "    #散布図の色分け基準を１つ選択する。カテゴリ変数を想定\n",
        "    hue = st.selectbox(\"色の基準\", df_columns)\n",
        "    \n",
        "    #実行ボタン（なくてもよいが、その場合、処理を進めるまでエラー画面が表示されてしまう）\n",
        "    execute_pairplot = st.button(\"ペアプロット描画\")\n",
        "    #実行ボタンを押したら下記を表示\n",
        "    if execute_pairplot:\n",
        "            df_sns = df[item]\n",
        "            df_sns[\"hue\"] = df[hue]\n",
        "            \n",
        "            #streamlit上でseabornのペアプロットを表示させる\n",
        "            fig = sns.pairplot(df_sns, hue=\"hue\")\n",
        "            st.pyplot(fig)\n",
        "\n",
        "\n",
        "    st.markdown(\"### モデリング\")\n",
        "    #説明変数は複数選択式\n",
        "    ex = st.multiselect(\"説明変数を選択してください（複数選択可）\", df_columns)\n",
        "\n",
        "    #目的変数は一つ\n",
        "    ob = st.selectbox(\"目的変数を選択してください\", df_columns)\n",
        "\n",
        "    #機械学習のタイプを選択する。\n",
        "    ml_menu = st.selectbox(\"実施する機械学習のタイプを選択してください\", [\"重回帰分析\",\"ロジスティック回帰分析\"])\n",
        "    \n",
        "    #機械学習のタイプにより以下の処理が分岐\n",
        "    if ml_menu == \"重回帰分析\":\n",
        "            st.markdown(\"#### 機械学習を実行します\")\n",
        "            execute = st.button(\"実行\")\n",
        "            \n",
        "            lr = linear_model.LinearRegression()\n",
        "            #実行ボタンを押したら下記が進む\n",
        "            if execute:\n",
        "                  df_ex = df[ex]\n",
        "                  df_ob = df[ob]\n",
        "                  X_train, X_test, y_train, y_test = train_test_split(df_ex.values, df_ob.values, test_size = 0.3)\n",
        "                  lr.fit(X_train, y_train)\n",
        "                  #プログレスバー（ここでは、やってる感だけ）\n",
        "                  my_bar = st.progress(0)\n",
        "                  \n",
        "                  for percent_complete in range(100):\n",
        "                        time.sleep(0.02)\n",
        "                        my_bar.progress(percent_complete + 1)\n",
        "                  \n",
        "                  #metricsで指標を強調表示させる\n",
        "                  col1, col2 = st.columns(2)\n",
        "                  col1.metric(label=\"トレーニングスコア\", value=lr.score(X_train, y_train))\n",
        "                  col2.metric(label=\"テストスコア\", value=lr.score(X_test, y_test))\n",
        "                  \n",
        "    #ロジスティック回帰分析を選択した場合\n",
        "    elif ml_menu == \"ロジスティック回帰分析\":\n",
        "            st.markdown(\"#### 機械学習を実行します\")\n",
        "            execute = st.button(\"実行\")\n",
        "            \n",
        "            lr = LogisticRegression()\n",
        "\n",
        "            #実行ボタンを押したら下記が進む\n",
        "            if execute:\n",
        "                  df_ex = df[ex]\n",
        "                  df_ob = df[ob]\n",
        "                  X_train, X_test, y_train, y_test = train_test_split(df_ex.values, df_ob.values, test_size = 0.3)\n",
        "                  lr.fit(X_train, y_train)\n",
        "                  #プログレスバー（ここでは、やってる感だけ）\n",
        "                  my_bar = st.progress(0)\n",
        "                  for percent_complete in range(100):\n",
        "                        time.sleep(0.02)\n",
        "                        my_bar.progress(percent_complete + 1)\n",
        "\n",
        "                  col1, col2 = st.columns(2)\n",
        "                  col1.metric(label=\"トレーニングスコア\", value=lr.score(X_train, y_train))\n",
        "                  col2.metric(label=\"テストスコア\", value=lr.score(X_test, y_test))\n",
        "                  \n"
      ]
    },
    {
      "cell_type": "code",
      "execution_count": null,
      "metadata": {
        "colab": {
          "base_uri": "https://localhost:8080/"
        },
        "id": "EfEdQoHT0o-3",
        "outputId": "59530ccc-d06a-4b63-8c3d-de419bc0e718"
      },
      "outputs": [
        {
          "name": "stdout",
          "output_type": "stream",
          "text": [
            "Writing /content/drive/MyDrive/Web_app/app.py\n"
          ]
        }
      ],
      "source": [
        "# Test 4\n",
        "%%writefile /content/drive/MyDrive/Web_app/app.py\n",
        "\n",
        "import streamlit as st\n",
        "import numpy as np\n",
        "import pandas as pd\n",
        "\n",
        "chart_data = pd.DataFrame(\n",
        "    np.random.randn(20, 3),\n",
        "    columns=['a', 'b', 'c'])\n",
        "\n",
        "chart_data"
      ]
    },
    {
      "cell_type": "code",
      "execution_count": null,
      "metadata": {
        "colab": {
          "base_uri": "https://localhost:8080/",
          "height": 17
        },
        "id": "3ibQk-WPUNfG",
        "outputId": "d34bcb2e-ac64-46ba-be55-eed376710b8e"
      },
      "outputs": [
        {
          "data": {
            "application/javascript": [
              "\n",
              "      ((filepath) => {{\n",
              "        if (!google.colab.kernel.accessAllowed) {{\n",
              "          return;\n",
              "        }}\n",
              "        google.colab.files.view(filepath);\n",
              "      }})(\"/content\")"
            ],
            "text/plain": [
              "<IPython.core.display.Javascript object>"
            ]
          },
          "metadata": {},
          "output_type": "display_data"
        },
        {
          "data": {
            "application/javascript": [
              "\n",
              "      ((filepath) => {{\n",
              "        if (!google.colab.kernel.accessAllowed) {{\n",
              "          return;\n",
              "        }}\n",
              "        google.colab.files.view(filepath);\n",
              "      }})(\"/content/app.py\")"
            ],
            "text/plain": [
              "<IPython.core.display.Javascript object>"
            ]
          },
          "metadata": {},
          "output_type": "display_data"
        }
      ],
      "source": [
        "# ファイルブラウザを起動、エディタでapp.pyを開いておきます。\n",
        "from google.colab import files\n",
        "files.view(\"/content\")\n",
        "files.view(\"app.py\")\n",
        "!streamlit run app.py & sleep 3 && npx localtunnel --port 8501"
      ]
    },
    {
      "cell_type": "code",
      "execution_count": null,
      "metadata": {
        "colab": {
          "base_uri": "https://localhost:8080/"
        },
        "id": "AsN_avV1m51y",
        "outputId": "2583cff5-da87-4f93-f8ef-f38fb010273f"
      },
      "outputs": [
        {
          "name": "stdout",
          "output_type": "stream",
          "text": [
            "Overwriting /content/drive/MyDrive/Web_app/app.py\n"
          ]
        }
      ],
      "source": [
        "# Original\n",
        "%%writefile /content/drive/MyDrive/Web_app/app.py\n",
        "\n",
        "#ライブラリの読み込み\n",
        "import keras\n",
        "import streamlit as st\n",
        "import numpy as np\n",
        "import matplotlib.pyplot as plt\n",
        "import cv2\n",
        "from network import RESTWORM_NET\n",
        "from PIL import Image\n",
        "\n",
        "# Parameters - single GPU -\n",
        "\n",
        "# model architecture\n",
        "input_image_size = 256\n",
        "input_channel_count = 1\n",
        "output_channel_count = 1\n",
        "first_layer_filter_count = 64\n",
        "\n",
        "# Early stopping\n",
        "es='No'\n",
        "# data augmentation\n",
        "aug='No'\n",
        "# optimizer, loss function\n",
        "optimizer = 'adam'\n",
        "loss = 'mse'\n",
        "# Computation size parameters\n",
        "BATCH_SIZE = 4\n",
        "NUM_EPOCH = 5\n",
        "num_layers = 4\n",
        "maxPool = True\n",
        "act = 'None'\n",
        "ROW_SIZE = 256\n",
        "COLUME_SIZE = 256\n",
        "\n",
        "#タイトル\n",
        "st.title(\"U-Net セグメンテーション\")\n",
        "st.write(\"streamlitで実装\")\n",
        "\n",
        "\n",
        "# 以下をサイドバーに表示\n",
        "st.sidebar.markdown(\"### U-Netでセグメンテーションする画像ファイルを入力してください\")\n",
        "#ファイルアップロード\n",
        "# Directoryを読む場合\n",
        "# https://github.com/aidanjungo/StreamlitDirectoryPicker\n",
        "uploaded_files = st.sidebar.file_uploader(\"Choose an image file\", accept_multiple_files= False)\n",
        "\n",
        "#ファイルがアップロードされたら以下が実行される\n",
        "if uploaded_files:\n",
        "    # 表示\n",
        "    st.image(uploaded_files, caption='Sunrise by the mountains')\n",
        "    \n",
        "    #実行ボタン（なくてもよいが、その場合、処理を進めるまでエラー画面が表示されてしまう）\n",
        "    execute_pairplot = st.button(\"U-Net セグメンテーション\")\n",
        "    \n",
        "    #実行ボタンを押したら下記を表示\n",
        "    if execute_pairplot:\n",
        "        filename = \"/content/drive/MyDrive/Web_app/model\"\n",
        "        model= keras.models.load_model(filename, compile=False)\n",
        "\n",
        "        # input test image\n",
        "        x_test = np.zeros((1, COLUME_SIZE, ROW_SIZE, 1), np.float32)\n",
        "        #img = np.array(uploaded_files)\n",
        "        image=Image.open(uploaded_files)\n",
        "        image = np.array(image)\n",
        "        image = cv2.resize(image, [ROW_SIZE, COLUME_SIZE])\n",
        "        x_test[0,:,:,0] = image\n",
        "        # prediction\n",
        "        y_pred = model.predict(x_test, BATCH_SIZE)\n",
        "\n",
        "        # 表示\n",
        "        st.markdown(np.shape(y_pred))\n",
        "        st.markdown(np.shape(y_pred[0,:,:,0]))\n",
        "        pred_img = y_pred[0,:,:,0] / np.max(y_pred[0,:,:,0])\n",
        "        st.image(pred_img, caption='Sunrise by the mountains')\n",
        "\n",
        "        #streamlit上でseabornのペアプロットを表示させる\n",
        "        fig = sns.pairplot(df_sns, hue=\"hue\")\n",
        "        st.pyplot(fig)\n",
        "        \n",
        "        \n",
        "        #プログレスバー（ここでは、やってる感だけ）\n",
        "        my_bar = st.progress(0)\n",
        "        \n",
        "        for percent_complete in range(100):\n",
        "              time.sleep(0.02)\n",
        "              my_bar.progress(percent_complete + 1)\n"
      ]
    },
    {
      "cell_type": "code",
      "execution_count": 88,
      "metadata": {
        "colab": {
          "base_uri": "https://localhost:8080/",
          "height": 376
        },
        "id": "lboqD7yWUW3j",
        "outputId": "9bc7e32e-31a6-40d7-8f0e-0befab6c1dd0"
      },
      "outputs": [
        {
          "data": {
            "application/javascript": [
              "\n",
              "      ((filepath) => {{\n",
              "        if (!google.colab.kernel.accessAllowed) {{\n",
              "          return;\n",
              "        }}\n",
              "        google.colab.files.view(filepath);\n",
              "      }})(\"/content/drive/MyDrive/Web_app\")"
            ],
            "text/plain": [
              "<IPython.core.display.Javascript object>"
            ]
          },
          "metadata": {},
          "output_type": "display_data"
        },
        {
          "data": {
            "application/javascript": [
              "\n",
              "      ((filepath) => {{\n",
              "        if (!google.colab.kernel.accessAllowed) {{\n",
              "          return;\n",
              "        }}\n",
              "        google.colab.files.view(filepath);\n",
              "      }})(\"/content/drive/MyDrive/Web_app/app.py\")"
            ],
            "text/plain": [
              "<IPython.core.display.Javascript object>"
            ]
          },
          "metadata": {},
          "output_type": "display_data"
        },
        {
          "output_type": "stream",
          "name": "stdout",
          "text": [
            "2022-08-04 10:58:02.717 INFO    numexpr.utils: NumExpr defaulting to 2 threads.\n",
            "\u001b[0m\n",
            "\u001b[34m\u001b[1m  You can now view your Streamlit app in your browser.\u001b[0m\n",
            "\u001b[0m\n",
            "\u001b[34m  Network URL: \u001b[0m\u001b[1mhttp://172.28.0.2:8501\u001b[0m\n",
            "\u001b[34m  External URL: \u001b[0m\u001b[1mhttp://34.73.135.141:8501\u001b[0m\n",
            "\u001b[0m\n",
            "\u001b[K\u001b[?25hnpx: installed 22 in 2.578s\n",
            "your url is: https://big-dolls-work-34-73-135-141.loca.lt\n",
            "2022-08-04 10:59:07.567473: E tensorflow/stream_executor/cuda/cuda_driver.cc:271] failed call to cuInit: CUDA_ERROR_NO_DEVICE: no CUDA-capable device is detected\n",
            "2022-08-04 10:59:10.291 Uncaught app exception\n",
            "Traceback (most recent call last):\n",
            "  File \"/usr/local/lib/python3.7/dist-packages/streamlit/scriptrunner/script_runner.py\", line 557, in _run_script\n",
            "    exec(code, module.__dict__)\n",
            "  File \"/content/drive/MyDrive/Web_app/app.py\", line 76, in <module>\n",
            "    fig = sns.pairplot(df_sns, hue=\"hue\")\n",
            "NameError: name 'sns' is not defined\n",
            "\u001b[34m  Stopping...\u001b[0m\n",
            "^C\n"
          ]
        }
      ],
      "source": [
        "# ファイルブラウザを起動、エディタでapp.pyを開いておきます。\n",
        "from google.colab import files\n",
        "files.view(\"/content/drive/MyDrive/Web_app/\")\n",
        "files.view(\"/content/drive/MyDrive/Web_app/app.py\")\n",
        "# Streamlitをlocaltunnelのトンネルで起動します\n",
        "!streamlit run /content/drive/MyDrive/Web_app/app.py & sleep 3 && npx localtunnel --port 8501"
      ]
    }
  ],
  "metadata": {
    "colab": {
      "collapsed_sections": [],
      "name": "test.ipynb",
      "provenance": [],
      "mount_file_id": "1AoIbUBm17AWFFDTC47tnFNE_5nmAVdd5",
      "authorship_tag": "ABX9TyOcIriEXVg4jGzTeLPbVpbI",
      "include_colab_link": true
    },
    "kernelspec": {
      "display_name": "Python 3",
      "name": "python3"
    },
    "language_info": {
      "name": "python"
    }
  },
  "nbformat": 4,
  "nbformat_minor": 0
}
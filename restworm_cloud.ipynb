{
  "cells": [
    {
      "cell_type": "markdown",
      "metadata": {
        "id": "view-in-github",
        "colab_type": "text"
      },
      "source": [
        "<a href=\"https://colab.research.google.com/github/bioimage-informatics/restworm_cloud/blob/main/restworm_cloud.ipynb\" target=\"_parent\"><img src=\"https://colab.research.google.com/assets/colab-badge.svg\" alt=\"Open In Colab\"/></a>"
      ]
    },
    {
      "cell_type": "code",
      "execution_count": null,
      "metadata": {
        "id": "y-rnjOWGNp5m"
      },
      "outputs": [],
      "source": [
        "# streamlit install\n",
        "!pip install --upgrade streamlit"
      ]
    },
    {
      "cell_type": "code",
      "source": [
        "from google.colab import drive \n",
        "drive.mount('/content/drive')"
      ],
      "metadata": {
        "id": "jkfA9E4Os3SO"
      },
      "execution_count": null,
      "outputs": []
    },
    {
      "cell_type": "code",
      "execution_count": null,
      "metadata": {
        "id": "AsN_avV1m51y"
      },
      "outputs": [],
      "source": [
        "# Original\n",
        "%%writefile /content/drive/MyDrive/Web_app/app.py\n",
        "\n",
        "# Libraries\n",
        "import keras\n",
        "import streamlit as st\n",
        "import numpy as np\n",
        "import matplotlib.pyplot as plt\n",
        "import cv2\n",
        "from network import RESTWORM_NET\n",
        "from PIL import Image\n",
        "import time\n",
        "\n",
        "# Parameters - single GPU -\n",
        "\n",
        "# model architecture\n",
        "input_image_size = 256\n",
        "input_channel_count = 1\n",
        "output_channel_count = 1\n",
        "first_layer_filter_count = 64\n",
        "\n",
        "# Early stopping\n",
        "es='No'\n",
        "# data augmentation\n",
        "aug='No'\n",
        "# optimizer, loss function\n",
        "optimizer = 'adam'\n",
        "loss = 'mse'\n",
        "# Computation size parameters\n",
        "BATCH_SIZE = 4\n",
        "NUM_EPOCH = 5\n",
        "num_layers = 4\n",
        "maxPool = True\n",
        "act = 'None'\n",
        "ROW_SIZE = 256\n",
        "COLUME_SIZE = 256\n",
        "\n",
        "# Title\n",
        "st.title(\"restworm cloud\")\n",
        "# st.write(\"streamlit\")\n",
        "\n",
        "\n",
        "# Sidebar\n",
        "st.sidebar.markdown(\"### Upload an image to restore\")\n",
        "# Upload a file\n",
        "uploaded_files = st.sidebar.file_uploader(\"Choose an image file\", accept_multiple_files= False)\n",
        "\n",
        "# Directory\n",
        "# https://github.com/aidanjungo/StreamlitDirectoryPicker\n",
        "\n",
        "# If an image file is uploaded\n",
        "if uploaded_files:\n",
        "    # Display uploaded image\n",
        "    image=Image.open(uploaded_files)\n",
        "    image = np.array(image)\n",
        "    image_for_view = image / np.max(image)\n",
        "    st.image(image_for_view, caption='Uploaded image')\n",
        "    \n",
        "    # Run button\n",
        "    execute_pairplot = st.button(\"Run restoration\")\n",
        "    \n",
        "    # If run button pushed\n",
        "    if execute_pairplot:\n",
        "        # !wget -P \"/content/drive/My Drive/Web_app/\" https://xxxxx.xxx\n",
        "        filename = \"/content/drive/MyDrive/Web_app/model\"\n",
        "        model= keras.models.load_model(filename, compile=False)\n",
        "\n",
        "        # Progress bar\n",
        "        my_bar = st.progress(0)\n",
        "\n",
        "        # input test image\n",
        "        x_test = np.zeros((1, COLUME_SIZE, ROW_SIZE, 1), np.float32)\n",
        "        my_bar.progress(0.1)\n",
        "\n",
        "        # image information\n",
        "        if image.ndim==3:\n",
        "            image  = cv2.cvtColor(image, cv2.COLOR_BGR2GRAY)\n",
        "        input_row, input_column = image.shape\n",
        "        image = cv2.resize(image, [ROW_SIZE, COLUME_SIZE])\n",
        "        x_test[0,:,:,0] = image\n",
        "        my_bar.progress(0.2)\n",
        "\n",
        "        # prediction\n",
        "        y_pred = model.predict(x_test, BATCH_SIZE)\n",
        "\n",
        "        # Display restored image\n",
        "        my_bar.progress(0.95)\n",
        "        y_pred_input_size = cv2.resize(y_pred[0,:,:,0], [input_row, input_column])\n",
        "        pred_img = y_pred_input_size / np.max(y_pred_input_size)\n",
        "        my_bar.progress(1.0)\n",
        "        st.image(pred_img, caption='Restored image',clamp=True)\n",
        "\n",
        "\n"
      ]
    },
    {
      "cell_type": "code",
      "execution_count": null,
      "metadata": {
        "id": "lboqD7yWUW3j"
      },
      "outputs": [],
      "source": [
        "# Run file browser, open app.py on an editer\n",
        "from google.colab import files\n",
        "files.view(\"/content/drive/MyDrive/Web_app/\")\n",
        "files.view(\"/content/drive/MyDrive/Web_app/app.py\")\n",
        "# Run Streamlit through a localtunnel\n",
        "!streamlit run /content/drive/MyDrive/Web_app/app.py & sleep 3 && npx localtunnel --port 8501"
      ]
    }
  ],
  "metadata": {
    "colab": {
      "collapsed_sections": [],
      "name": "restworm_cloud",
      "provenance": [],
      "mount_file_id": "1AoIbUBm17AWFFDTC47tnFNE_5nmAVdd5",
      "authorship_tag": "ABX9TyMKMnMRm/J06Nh0ZHHaQhQ2",
      "include_colab_link": true
    },
    "kernelspec": {
      "display_name": "Python 3",
      "name": "python3"
    },
    "language_info": {
      "name": "python"
    }
  },
  "nbformat": 4,
  "nbformat_minor": 0
}